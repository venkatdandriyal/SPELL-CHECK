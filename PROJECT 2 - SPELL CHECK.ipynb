{
 "cells": [
  {
   "cell_type": "code",
   "execution_count": 3,
   "metadata": {},
   "outputs": [],
   "source": [
    "from textblob import TextBlob\n",
    "from tkinter import *\n",
    "\n",
    "def check():\n",
    "    b = TextBlob(e.get())\n",
    "    corrected_text = Label(root, text = str(b.correct()))\n",
    "    corrected_text.pack()\n",
    "\n",
    "root = Tk()\n",
    "root.title('SpellCheck')\n",
    "root.geometry('400x200')\n",
    "\n",
    "head = Label(root, text='SpellCheck',font=('helvetica', 14 , 'bold'))\n",
    "head.pack()\n",
    "e = Entry(root, width=200,borderwidth=5)\n",
    "e.pack()\n",
    "b = Button(root, text = 'Check', font=('helvetica', 8 , 'bold'), fg = 'white', bg = 'brown', command = check)\n",
    "b.pack()\n",
    "root.mainloop()\n",
    "\n",
    "\n",
    "\n",
    "\n"
   ]
  },
  {
   "cell_type": "code",
   "execution_count": null,
   "metadata": {},
   "outputs": [],
   "source": []
  }
 ],
 "metadata": {
  "kernelspec": {
   "display_name": "Python 3",
   "language": "python",
   "name": "python3"
  },
  "language_info": {
   "codemirror_mode": {
    "name": "ipython",
    "version": 3
   },
   "file_extension": ".py",
   "mimetype": "text/x-python",
   "name": "python",
   "nbconvert_exporter": "python",
   "pygments_lexer": "ipython3",
   "version": "3.7.6"
  }
 },
 "nbformat": 4,
 "nbformat_minor": 4
}
